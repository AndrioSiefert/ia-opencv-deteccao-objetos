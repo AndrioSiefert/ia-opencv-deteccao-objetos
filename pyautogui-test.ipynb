{
 "cells": [
  {
   "cell_type": "code",
   "execution_count": 1,
   "metadata": {},
   "outputs": [
    {
     "name": "stdout",
     "output_type": "stream",
     "text": [
      "Posição do Mouse: (1769, 394), RGB: (31, 36, 40)\n",
      "Posição do Mouse: (384, 419), RGB: (90, 90, 90)\n",
      "Posição do Mouse: (346, 378), RGB: (202, 202, 202)\n",
      "Posição do Mouse: (346, 378), RGB: (202, 202, 202)\n",
      "Posição do Mouse: (346, 378), RGB: (214, 151, 109)\n",
      "Posição do Mouse: (941, 381), RGB: (79, 79, 79)\n",
      "Posição do Mouse: (945, 378), RGB: (161, 161, 161)\n",
      "Posição do Mouse: (945, 378), RGB: (174, 174, 174)\n",
      "Posição do Mouse: (470, 523), RGB: (214, 151, 109)\n",
      "Posição do Mouse: (347, 798), RGB: (68, 68, 68)\n",
      "Posição do Mouse: (347, 798), RGB: (68, 68, 68)\n",
      "Posição do Mouse: (347, 798), RGB: (143, 82, 82)\n",
      "Posição do Mouse: (657, 713), RGB: (255, 239, 229)\n",
      "Posição do Mouse: (1743, 234), RGB: (53, 57, 61)\n"
     ]
    },
    {
     "ename": "KeyboardInterrupt",
     "evalue": "",
     "output_type": "error",
     "traceback": [
      "\u001b[1;31m---------------------------------------------------------------------------\u001b[0m",
      "\u001b[1;31mKeyboardInterrupt\u001b[0m                         Traceback (most recent call last)",
      "\u001b[1;32mc:\\Users\\pablo\\Repositorio\\ia-opencv-deteccao-objetos\\pyautogui-test.ipynb Cell 2\u001b[0m line \u001b[0;36m2\n\u001b[0;32m     <a href='vscode-notebook-cell:/c%3A/Users/pablo/Repositorio/ia-opencv-deteccao-objetos/pyautogui-test.ipynb#W1sZmlsZQ%3D%3D?line=17'>18</a>\u001b[0m         time\u001b[39m.\u001b[39msleep(\u001b[39m2\u001b[39m)\n\u001b[0;32m     <a href='vscode-notebook-cell:/c%3A/Users/pablo/Repositorio/ia-opencv-deteccao-objetos/pyautogui-test.ipynb#W1sZmlsZQ%3D%3D?line=19'>20</a>\u001b[0m \u001b[39m# Chama a função para exibir a posição e RGB do mouse\u001b[39;00m\n\u001b[1;32m---> <a href='vscode-notebook-cell:/c%3A/Users/pablo/Repositorio/ia-opencv-deteccao-objetos/pyautogui-test.ipynb#W1sZmlsZQ%3D%3D?line=20'>21</a>\u001b[0m display_mouse_info()\n",
      "\u001b[1;32mc:\\Users\\pablo\\Repositorio\\ia-opencv-deteccao-objetos\\pyautogui-test.ipynb Cell 2\u001b[0m line \u001b[0;36m1\n\u001b[0;32m     <a href='vscode-notebook-cell:/c%3A/Users/pablo/Repositorio/ia-opencv-deteccao-objetos/pyautogui-test.ipynb#W1sZmlsZQ%3D%3D?line=14'>15</a>\u001b[0m \u001b[39mprint\u001b[39m(\u001b[39mf\u001b[39m\u001b[39m\"\u001b[39m\u001b[39mPosição do Mouse: (\u001b[39m\u001b[39m{\u001b[39;00mmouse_x\u001b[39m}\u001b[39;00m\u001b[39m, \u001b[39m\u001b[39m{\u001b[39;00mmouse_y\u001b[39m}\u001b[39;00m\u001b[39m), RGB: \u001b[39m\u001b[39m{\u001b[39;00mrgb\u001b[39m}\u001b[39;00m\u001b[39m\"\u001b[39m)\n\u001b[0;32m     <a href='vscode-notebook-cell:/c%3A/Users/pablo/Repositorio/ia-opencv-deteccao-objetos/pyautogui-test.ipynb#W1sZmlsZQ%3D%3D?line=16'>17</a>\u001b[0m \u001b[39m# Adiciona um atraso de 1 segundo\u001b[39;00m\n\u001b[1;32m---> <a href='vscode-notebook-cell:/c%3A/Users/pablo/Repositorio/ia-opencv-deteccao-objetos/pyautogui-test.ipynb#W1sZmlsZQ%3D%3D?line=17'>18</a>\u001b[0m time\u001b[39m.\u001b[39;49msleep(\u001b[39m2\u001b[39;49m)\n",
      "\u001b[1;31mKeyboardInterrupt\u001b[0m: "
     ]
    }
   ],
   "source": [
    "import pyautogui\n",
    "import keyboard\n",
    "import time\n",
    "\n",
    "# Função para exibir a posição e RGB do mouse\n",
    "def display_mouse_info():\n",
    "    while not keyboard.is_pressed('q'):  # Pressione 'q' para sair do loop\n",
    "        # Obtém a posição atual do mouse\n",
    "        mouse_x, mouse_y = pyautogui.position()\n",
    "\n",
    "        # Obtém o valor RGB do pixel na posição do mouse\n",
    "        rgb = pyautogui.pixel(mouse_x, mouse_y)\n",
    "\n",
    "        # Exibe a posição e o valor RGB\n",
    "        print(f\"Posição do Mouse: ({mouse_x}, {mouse_y}), RGB: {rgb}\")\n",
    "\n",
    "        # Adiciona um atraso de 1 segundo\n",
    "        time.sleep(2)\n",
    "\n",
    "# Chama a função para exibir a posição e RGB do mouse\n",
    "display_mouse_info()"
   ]
  }
 ],
 "metadata": {
  "kernelspec": {
   "display_name": "base",
   "language": "python",
   "name": "python3"
  },
  "language_info": {
   "codemirror_mode": {
    "name": "ipython",
    "version": 3
   },
   "file_extension": ".py",
   "mimetype": "text/x-python",
   "name": "python",
   "nbconvert_exporter": "python",
   "pygments_lexer": "ipython3",
   "version": "3.11.4"
  }
 },
 "nbformat": 4,
 "nbformat_minor": 2
}
