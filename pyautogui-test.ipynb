{
 "cells": [
  {
   "cell_type": "code",
   "execution_count": null,
   "metadata": {},
   "outputs": [],
   "source": []
  },
  {
   "cell_type": "code",
   "execution_count": 2,
   "metadata": {},
   "outputs": [
    {
     "name": "stdout",
     "output_type": "stream",
     "text": [
      "Posição do Mouse: (1721, 160), RGB: (64, 68, 71)\n",
      "Posição do Mouse: (270, 155), RGB: (190, 194, 236)\n",
      "Posição do Mouse: (270, 155), RGB: (190, 194, 236)\n",
      "Posição do Mouse: (267, 168), RGB: (206, 210, 238)\n",
      "Posição do Mouse: (266, 226), RGB: (176, 180, 234)\n",
      "Posição do Mouse: (275, 228), RGB: (177, 181, 234)\n",
      "Posição do Mouse: (281, 233), RGB: (182, 185, 235)\n",
      "Posição do Mouse: (281, 233), RGB: (182, 185, 235)\n",
      "Posição do Mouse: (280, 237), RGB: (178, 182, 234)\n",
      "Posição do Mouse: (283, 254), RGB: (177, 182, 234)\n",
      "Posição do Mouse: (283, 254), RGB: (177, 182, 234)\n",
      "Posição do Mouse: (1068, 261), RGB: (60, 59, 71)\n",
      "Posição do Mouse: (1935, 237), RGB: (31, 36, 40)\n",
      "Posição do Mouse: (2112, 759), RGB: (36, 41, 46)\n",
      "Posição do Mouse: (2147, 685), RGB: (36, 41, 46)\n",
      "Posição do Mouse: (1018, 509), RGB: (60, 59, 71)\n",
      "Posição do Mouse: (1018, 509), RGB: (60, 59, 71)\n",
      "Posição do Mouse: (2036, 513), RGB: (31, 36, 40)\n",
      "Posição do Mouse: (2289, 800), RGB: (36, 41, 46)\n",
      "Posição do Mouse: (2134, 637), RGB: (36, 41, 46)\n",
      "Posição do Mouse: (2134, 637), RGB: (31, 36, 40)\n",
      "Posição do Mouse: (2003, 711), RGB: (43, 48, 54)\n",
      "Posição do Mouse: (1998, 688), RGB: (31, 36, 40)\n",
      "Posição do Mouse: (1736, 289), RGB: (64, 68, 71)\n"
     ]
    },
    {
     "ename": "KeyboardInterrupt",
     "evalue": "",
     "output_type": "error",
     "traceback": [
      "\u001b[1;31m---------------------------------------------------------------------------\u001b[0m",
      "\u001b[1;31mKeyboardInterrupt\u001b[0m                         Traceback (most recent call last)",
      "\u001b[1;32mc:\\Users\\pablo\\Repositorio\\ia-opencv-deteccao-objetos\\pyautogui-test.ipynb Cell 2\u001b[0m line \u001b[0;36m2\n\u001b[0;32m     <a href='vscode-notebook-cell:/c%3A/Users/pablo/Repositorio/ia-opencv-deteccao-objetos/pyautogui-test.ipynb#W0sZmlsZQ%3D%3D?line=17'>18</a>\u001b[0m         time\u001b[39m.\u001b[39msleep(\u001b[39m2\u001b[39m)\n\u001b[0;32m     <a href='vscode-notebook-cell:/c%3A/Users/pablo/Repositorio/ia-opencv-deteccao-objetos/pyautogui-test.ipynb#W0sZmlsZQ%3D%3D?line=19'>20</a>\u001b[0m \u001b[39m# Chama a função para exibir a posição e RGB do mouse\u001b[39;00m\n\u001b[1;32m---> <a href='vscode-notebook-cell:/c%3A/Users/pablo/Repositorio/ia-opencv-deteccao-objetos/pyautogui-test.ipynb#W0sZmlsZQ%3D%3D?line=20'>21</a>\u001b[0m display_mouse_info()\n",
      "\u001b[1;32mc:\\Users\\pablo\\Repositorio\\ia-opencv-deteccao-objetos\\pyautogui-test.ipynb Cell 2\u001b[0m line \u001b[0;36m1\n\u001b[0;32m     <a href='vscode-notebook-cell:/c%3A/Users/pablo/Repositorio/ia-opencv-deteccao-objetos/pyautogui-test.ipynb#W0sZmlsZQ%3D%3D?line=14'>15</a>\u001b[0m \u001b[39mprint\u001b[39m(\u001b[39mf\u001b[39m\u001b[39m\"\u001b[39m\u001b[39mPosição do Mouse: (\u001b[39m\u001b[39m{\u001b[39;00mmouse_x\u001b[39m}\u001b[39;00m\u001b[39m, \u001b[39m\u001b[39m{\u001b[39;00mmouse_y\u001b[39m}\u001b[39;00m\u001b[39m), RGB: \u001b[39m\u001b[39m{\u001b[39;00mrgb\u001b[39m}\u001b[39;00m\u001b[39m\"\u001b[39m)\n\u001b[0;32m     <a href='vscode-notebook-cell:/c%3A/Users/pablo/Repositorio/ia-opencv-deteccao-objetos/pyautogui-test.ipynb#W0sZmlsZQ%3D%3D?line=16'>17</a>\u001b[0m \u001b[39m# Adiciona um atraso de 1 segundo\u001b[39;00m\n\u001b[1;32m---> <a href='vscode-notebook-cell:/c%3A/Users/pablo/Repositorio/ia-opencv-deteccao-objetos/pyautogui-test.ipynb#W0sZmlsZQ%3D%3D?line=17'>18</a>\u001b[0m time\u001b[39m.\u001b[39;49msleep(\u001b[39m2\u001b[39;49m)\n",
      "\u001b[1;31mKeyboardInterrupt\u001b[0m: "
     ]
    }
   ],
   "source": [
    "import pyautogui\n",
    "import keyboard\n",
    "import time\n",
    "\n",
    "# Função para exibir a posição e RGB do mouse\n",
    "def display_mouse_info():\n",
    "    while not keyboard.is_pressed('q'):  # Pressione 'q' para sair do loop\n",
    "        # Obtém a posição atual do mouse\n",
    "        mouse_x, mouse_y = pyautogui.position()\n",
    "\n",
    "        # Obtém o valor RGB do pixel na posição do mouse\n",
    "        rgb = pyautogui.pixel(mouse_x, mouse_y)\n",
    "\n",
    "        # Exibe a posição e o valor RGB\n",
    "        print(f\"Posição do Mouse: ({mouse_x}, {mouse_y}), RGB: {rgb}\")\n",
    "\n",
    "        # Adiciona um atraso de 1 segundo\n",
    "        time.sleep(2)\n",
    "\n",
    "# Chama a função para exibir a posição e RGB do mouse\n",
    "display_mouse_info()"
   ]
  }
 ],
 "metadata": {
  "kernelspec": {
   "display_name": "base",
   "language": "python",
   "name": "python3"
  },
  "language_info": {
   "codemirror_mode": {
    "name": "ipython",
    "version": 3
   },
   "file_extension": ".py",
   "mimetype": "text/x-python",
   "name": "python",
   "nbconvert_exporter": "python",
   "pygments_lexer": "ipython3",
   "version": "3.11.4"
  }
 },
 "nbformat": 4,
 "nbformat_minor": 2
}
